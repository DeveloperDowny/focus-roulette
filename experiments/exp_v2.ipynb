{
 "cells": [
  {
   "cell_type": "code",
   "execution_count": 1,
   "metadata": {},
   "outputs": [],
   "source": [
    "import random\n",
    "import json\n",
    "from datetime import datetime\n",
    "\n",
    "class WeightedTaskSelector:\n",
    "    def __init__(self, tasks_file=None):\n",
    "        self.tasks = {}\n",
    "        self.history = []\n",
    "        \n",
    "        if tasks_file:\n",
    "            try:\n",
    "                with open(tasks_file, 'r') as f:\n",
    "                    data = json.load(f)\n",
    "                    self.tasks = data.get('tasks', {})\n",
    "                    self.history = data.get('history', [])\n",
    "            except (FileNotFoundError, json.JSONDecodeError):\n",
    "                pass\n",
    "    \n",
    "    def add_task(self, task_name, weight):\n",
    "        self.tasks[task_name] = weight\n",
    "    \n",
    "    def get_random_task(self):\n",
    "        if not self.tasks:\n",
    "            return None\n",
    "            \n",
    "        tasks = list(self.tasks.keys())\n",
    "        weights = list(self.tasks.values())\n",
    "        \n",
    "        selected = random.choices(tasks, weights=weights, k=1)[0]\n",
    "        \n",
    "        # Record selection\n",
    "        self.history.append({\n",
    "            \"task\": selected,\n",
    "            \"timestamp\": datetime.now().isoformat()\n",
    "        })\n",
    "        \n",
    "        return selected\n",
    "    \n",
    "    def save(self, filename):\n",
    "        data = {\n",
    "            \"tasks\": self.tasks,\n",
    "            \"history\": self.history\n",
    "        }\n",
    "        \n",
    "        with open(filename, 'w') as f:\n",
    "            json.dump(data, f, indent=2)"
   ]
  },
  {
   "cell_type": "code",
   "execution_count": null,
   "metadata": {},
   "outputs": [],
   "source": [
    "selector = WeightedTaskSelector()\n",
    "selector.add_task(\"Exercise\", 5)\n",
    "selector.add_task(\"Study\", 3)\n",
    "selector.add_task(\"Read\", 1)\n",
    "selector.add_task(\"Cook\", 2)"
   ]
  },
  {
   "cell_type": "code",
   "execution_count": null,
   "metadata": {},
   "outputs": [],
   "source": [
    "\n",
    "# Get three random tasks\n",
    "for _ in range(1):\n",
    "    print(selector.get_random_task())\n",
    "\n",
    "# Save state\n",
    "selector.save(\"tasks.json\")"
   ]
  },
  {
   "cell_type": "code",
   "execution_count": 2,
   "metadata": {},
   "outputs": [
    {
     "name": "stdout",
     "output_type": "stream",
     "text": [
      "Cook\n",
      "Study\n",
      "Exercise\n"
     ]
    }
   ],
   "source": [
    "selector = WeightedTaskSelector()\n",
    "selector.add_task(\"Exercise\", 5)\n",
    "selector.add_task(\"Study\", 3)\n",
    "selector.add_task(\"Read\", 1)\n",
    "selector.add_task(\"Cook\", 2)\n",
    "\n",
    "# Get three random tasks\n",
    "for _ in range(3):\n",
    "    print(selector.get_random_task())\n",
    "\n",
    "# Save state\n",
    "selector.save(\"tasks.json\")"
   ]
  },
  {
   "cell_type": "code",
   "execution_count": null,
   "metadata": {},
   "outputs": [],
   "source": []
  }
 ],
 "metadata": {
  "kernelspec": {
   "display_name": "base",
   "language": "python",
   "name": "python3"
  },
  "language_info": {
   "codemirror_mode": {
    "name": "ipython",
    "version": 3
   },
   "file_extension": ".py",
   "mimetype": "text/x-python",
   "name": "python",
   "nbconvert_exporter": "python",
   "pygments_lexer": "ipython3",
   "version": "3.12.2"
  }
 },
 "nbformat": 4,
 "nbformat_minor": 2
}
